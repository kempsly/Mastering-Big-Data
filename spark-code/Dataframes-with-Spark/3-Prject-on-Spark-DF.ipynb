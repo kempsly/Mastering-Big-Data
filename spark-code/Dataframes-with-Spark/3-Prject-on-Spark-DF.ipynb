{
 "cells": [
  {
   "cell_type": "code",
   "execution_count": 1,
   "metadata": {},
   "outputs": [
    {
     "name": "stderr",
     "output_type": "stream",
     "text": [
      "25/01/28 09:15:36 WARN Utils: Your hostname, Kempslys-MacBook-Pro.local resolves to a loopback address: 127.0.0.1; using 192.168.1.57 instead (on interface en0)\n",
      "25/01/28 09:15:36 WARN Utils: Set SPARK_LOCAL_IP if you need to bind to another address\n",
      "Setting default log level to \"WARN\".\n",
      "To adjust logging level use sc.setLogLevel(newLevel). For SparkR, use setLogLevel(newLevel).\n",
      "25/01/28 09:15:37 WARN NativeCodeLoader: Unable to load native-hadoop library for your platform... using builtin-java classes where applicable\n"
     ]
    }
   ],
   "source": [
    "from pyspark.sql import SparkSession\n",
    "from pyspark.sql.types import DoubleType, IntegerType\n",
    "from pyspark.sql.functions import col, lit, udf\n",
    "from pyspark.sql.functions import sum,avg,max,min,mean,count\n",
    "spark = SparkSession.builder.appName(\"SparkMiniProjectOnDF\").getOrCreate()"
   ]
  },
  {
   "cell_type": "code",
   "execution_count": 4,
   "metadata": {},
   "outputs": [],
   "source": [
    "# Load and read the data"
   ]
  },
  {
   "cell_type": "code",
   "execution_count": 3,
   "metadata": {},
   "outputs": [
    {
     "name": "stdout",
     "output_type": "stream",
     "text": [
      "+-----------+-------------------+----------+-----+------+---+-----+\n",
      "|employee_id|      employee_name|department|state|salary|age|bonus|\n",
      "+-----------+-------------------+----------+-----+------+---+-----+\n",
      "|       1000|          Nitz Leif| Marketing|   CA|  6131| 26|  543|\n",
      "|       1001|    Melissia Dedman|   Finance|   AK|  4027| 43| 1290|\n",
      "|       1002|  Rudolph Barringer|        HR|   LA|  3122| 43| 1445|\n",
      "|       1003|        Tamra Amber|  Accounts|   AK|  5717| 47| 1291|\n",
      "|       1004|        Mullan Nitz|Purchasing|   CA|  5685| 34| 1394|\n",
      "|       1005|      Zollner Karie|  Accounts|   CA|  2843| 27| 1078|\n",
      "|       1006|Kaczorowski Zollner|     Sales|   CA|  7201| 21| 1834|\n",
      "|       1007|      Nakano Locust| Marketing|   LA|  3444| 23| 1823|\n",
      "|       1008|  Recalde Kensinger|  Accounts|   LA|  3704| 48| 1330|\n",
      "|       1009|        Imai Hallie|  Accounts|   AK|  5061| 38| 1557|\n",
      "|       1010|    Debroah Gallman|  Accounts|   NY|  9308| 35|  817|\n",
      "|       1011|   Barringer Escoto|Purchasing|   WA|  1685| 49| 1706|\n",
      "|       1012|      Soules Coogan|  Accounts|   AK|  8330| 43| 1914|\n",
      "|       1013|      Luisa Suzanne|  Accounts|   CA|  1151| 37| 1095|\n",
      "|       1014|      Marvis Cobian|Purchasing|   NY|  5061| 41| 1765|\n",
      "|       1015|   Cobian Kensinger|     Sales|   LA|  1983| 21|  632|\n",
      "|       1016|      Gilma Margret| Marketing|   CA|  2919| 45| 1762|\n",
      "|       1017| Ellingsworth Ilana|  Accounts|   WA|  9614| 26| 1964|\n",
      "|       1018| Vankirk Jacquelyne|Purchasing|   NY|  8636| 47| 1192|\n",
      "|       1019|    Zollner Juliana|        HR|   NY|  9739| 30| 1119|\n",
      "+-----------+-------------------+----------+-----+------+---+-----+\n",
      "only showing top 20 rows\n",
      "\n"
     ]
    }
   ],
   "source": [
    "df = spark.read.options(header='True', inferSchema='True').csv('data_office_project.csv')\n",
    "df.show()"
   ]
  },
  {
   "cell_type": "code",
   "execution_count": 5,
   "metadata": {},
   "outputs": [
    {
     "name": "stdout",
     "output_type": "stream",
     "text": [
      "root\n",
      " |-- employee_id: integer (nullable = true)\n",
      " |-- employee_name: string (nullable = true)\n",
      " |-- department: string (nullable = true)\n",
      " |-- state: string (nullable = true)\n",
      " |-- salary: integer (nullable = true)\n",
      " |-- age: integer (nullable = true)\n",
      " |-- bonus: integer (nullable = true)\n",
      "\n"
     ]
    }
   ],
   "source": [
    "df.printSchema()"
   ]
  },
  {
   "cell_type": "code",
   "execution_count": 6,
   "metadata": {},
   "outputs": [
    {
     "data": {
      "text/plain": [
       "1000"
      ]
     },
     "execution_count": 6,
     "metadata": {},
     "output_type": "execute_result"
    }
   ],
   "source": [
    "#Calculate the number of records in the df\n",
    "df.count()"
   ]
  },
  {
   "cell_type": "code",
   "execution_count": null,
   "metadata": {},
   "outputs": [
    {
     "data": {
      "text/plain": [
       "6"
      ]
     },
     "execution_count": 7,
     "metadata": {},
     "output_type": "execute_result"
    }
   ],
   "source": [
    "#The number of different departments\n",
    "df.select(\"department\").dropDuplicates([\"department\"]).count()"
   ]
  },
  {
   "cell_type": "code",
   "execution_count": null,
   "metadata": {},
   "outputs": [
    {
     "name": "stdout",
     "output_type": "stream",
     "text": [
      "+----------+\n",
      "|department|\n",
      "+----------+\n",
      "|     Sales|\n",
      "|        HR|\n",
      "|   Finance|\n",
      "|Purchasing|\n",
      "| Marketing|\n",
      "|  Accounts|\n",
      "+----------+\n",
      "\n"
     ]
    }
   ],
   "source": [
    "#Display the departments name\n",
    "df.select(\"department\").dropDuplicates([\"department\"]).show()"
   ]
  },
  {
   "cell_type": "code",
   "execution_count": null,
   "metadata": {},
   "outputs": [
    {
     "name": "stdout",
     "output_type": "stream",
     "text": [
      "+----------+-----+\n",
      "|department|count|\n",
      "+----------+-----+\n",
      "|     Sales|  169|\n",
      "|        HR|  171|\n",
      "|   Finance|  162|\n",
      "|Purchasing|  166|\n",
      "| Marketing|  170|\n",
      "|  Accounts|  162|\n",
      "+----------+-----+\n",
      "\n"
     ]
    }
   ],
   "source": [
    "#Number of records per department\n",
    "df.groupBy('department').count().show()"
   ]
  },
  {
   "cell_type": "code",
   "execution_count": 10,
   "metadata": {},
   "outputs": [
    {
     "name": "stdout",
     "output_type": "stream",
     "text": [
      "+-----+-----+\n",
      "|state|count|\n",
      "+-----+-----+\n",
      "|   LA|  205|\n",
      "|   CA|  205|\n",
      "|   WA|  208|\n",
      "|   NY|  173|\n",
      "|   AK|  209|\n",
      "+-----+-----+\n",
      "\n"
     ]
    }
   ],
   "source": [
    "#Number of records per state\n",
    "df.groupBy('state').count().show()"
   ]
  },
  {
   "cell_type": "code",
   "execution_count": null,
   "metadata": {},
   "outputs": [
    {
     "name": "stdout",
     "output_type": "stream",
     "text": [
      "+-----+----------+-----+\n",
      "|state|department|count|\n",
      "+-----+----------+-----+\n",
      "|   CA|     Sales|   42|\n",
      "|   CA| Marketing|   33|\n",
      "|   NY|  Accounts|   34|\n",
      "|   NY|     Sales|   27|\n",
      "|   CA|   Finance|   35|\n",
      "|   CA|  Accounts|   35|\n",
      "|   CA|Purchasing|   32|\n",
      "|   WA|        HR|   47|\n",
      "|   AK|Purchasing|   30|\n",
      "|   WA|  Accounts|   27|\n",
      "|   WA|Purchasing|   38|\n",
      "|   AK|     Sales|   38|\n",
      "|   AK|  Accounts|   37|\n",
      "|   WA| Marketing|   39|\n",
      "|   LA|        HR|   41|\n",
      "|   LA|     Sales|   35|\n",
      "|   AK|        HR|   25|\n",
      "|   LA|   Finance|   29|\n",
      "|   AK|   Finance|   37|\n",
      "|   LA|Purchasing|   45|\n",
      "+-----+----------+-----+\n",
      "only showing top 20 rows\n",
      "\n"
     ]
    }
   ],
   "source": [
    "#Number of records per state and departement\n",
    "df.groupBy('state','department').count().show()"
   ]
  },
  {
   "cell_type": "code",
   "execution_count": 12,
   "metadata": {},
   "outputs": [
    {
     "name": "stdout",
     "output_type": "stream",
     "text": [
      "+-----------+-------------------+----------+-----+------+---+-----+\n",
      "|employee_id|      employee_name|department|state|salary|age|bonus|\n",
      "+-----------+-------------------+----------+-----+------+---+-----+\n",
      "|       1000|          Nitz Leif| Marketing|   CA|  6131| 26|  543|\n",
      "|       1001|    Melissia Dedman|   Finance|   AK|  4027| 43| 1290|\n",
      "|       1002|  Rudolph Barringer|        HR|   LA|  3122| 43| 1445|\n",
      "|       1003|        Tamra Amber|  Accounts|   AK|  5717| 47| 1291|\n",
      "|       1004|        Mullan Nitz|Purchasing|   CA|  5685| 34| 1394|\n",
      "|       1005|      Zollner Karie|  Accounts|   CA|  2843| 27| 1078|\n",
      "|       1006|Kaczorowski Zollner|     Sales|   CA|  7201| 21| 1834|\n",
      "|       1007|      Nakano Locust| Marketing|   LA|  3444| 23| 1823|\n",
      "|       1008|  Recalde Kensinger|  Accounts|   LA|  3704| 48| 1330|\n",
      "|       1009|        Imai Hallie|  Accounts|   AK|  5061| 38| 1557|\n",
      "|       1010|    Debroah Gallman|  Accounts|   NY|  9308| 35|  817|\n",
      "|       1011|   Barringer Escoto|Purchasing|   WA|  1685| 49| 1706|\n",
      "|       1012|      Soules Coogan|  Accounts|   AK|  8330| 43| 1914|\n",
      "|       1013|      Luisa Suzanne|  Accounts|   CA|  1151| 37| 1095|\n",
      "|       1014|      Marvis Cobian|Purchasing|   NY|  5061| 41| 1765|\n",
      "|       1015|   Cobian Kensinger|     Sales|   LA|  1983| 21|  632|\n",
      "|       1016|      Gilma Margret| Marketing|   CA|  2919| 45| 1762|\n",
      "|       1017| Ellingsworth Ilana|  Accounts|   WA|  9614| 26| 1964|\n",
      "|       1018| Vankirk Jacquelyne|Purchasing|   NY|  8636| 47| 1192|\n",
      "|       1019|    Zollner Juliana|        HR|   NY|  9739| 30| 1119|\n",
      "+-----------+-------------------+----------+-----+------+---+-----+\n",
      "only showing top 20 rows\n",
      "\n"
     ]
    }
   ],
   "source": [
    "df.show()"
   ]
  },
  {
   "cell_type": "code",
   "execution_count": null,
   "metadata": {},
   "outputs": [
    {
     "name": "stdout",
     "output_type": "stream",
     "text": [
      "+----------+----+----+\n",
      "|department| min| max|\n",
      "+----------+----+----+\n",
      "|  Accounts|1007|9890|\n",
      "|   Finance|1006|9899|\n",
      "| Marketing|1031|9974|\n",
      "|        HR|1013|9982|\n",
      "|     Sales|1103|9982|\n",
      "|Purchasing|1105|9985|\n",
      "+----------+----+----+\n",
      "\n"
     ]
    }
   ],
   "source": [
    "#Calculate the minimum and the maximum salary per departement and order by min and max in ascending order\n",
    "df.groupBy(\"department\")\\\n",
    "    .agg(\\\n",
    "        min(\"salary\").alias(\"min\"), \\\n",
    "        max(\"salary\").alias(\"max\"))\\\n",
    "        .orderBy(col(\"max\").asc(), col(\"min\").asc()).show()\n"
   ]
  },
  {
   "cell_type": "code",
   "execution_count": null,
   "metadata": {},
   "outputs": [],
   "source": []
  },
  {
   "cell_type": "code",
   "execution_count": null,
   "metadata": {},
   "outputs": [],
   "source": []
  },
  {
   "cell_type": "code",
   "execution_count": null,
   "metadata": {},
   "outputs": [],
   "source": []
  },
  {
   "cell_type": "code",
   "execution_count": null,
   "metadata": {},
   "outputs": [],
   "source": []
  },
  {
   "cell_type": "code",
   "execution_count": null,
   "metadata": {},
   "outputs": [],
   "source": []
  },
  {
   "cell_type": "code",
   "execution_count": null,
   "metadata": {},
   "outputs": [],
   "source": []
  },
  {
   "cell_type": "code",
   "execution_count": null,
   "metadata": {},
   "outputs": [],
   "source": []
  },
  {
   "cell_type": "code",
   "execution_count": null,
   "metadata": {},
   "outputs": [],
   "source": []
  },
  {
   "cell_type": "code",
   "execution_count": null,
   "metadata": {},
   "outputs": [],
   "source": []
  },
  {
   "cell_type": "code",
   "execution_count": null,
   "metadata": {},
   "outputs": [],
   "source": []
  },
  {
   "cell_type": "code",
   "execution_count": null,
   "metadata": {},
   "outputs": [],
   "source": []
  }
 ],
 "metadata": {
  "kernelspec": {
   "display_name": "pyspark-env",
   "language": "python",
   "name": "python3"
  },
  "language_info": {
   "codemirror_mode": {
    "name": "ipython",
    "version": 3
   },
   "file_extension": ".py",
   "mimetype": "text/x-python",
   "name": "python",
   "nbconvert_exporter": "python",
   "pygments_lexer": "ipython3",
   "version": "3.12.8"
  }
 },
 "nbformat": 4,
 "nbformat_minor": 2
}
