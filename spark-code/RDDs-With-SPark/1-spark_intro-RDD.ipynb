{
 "cells": [
  {
   "cell_type": "code",
   "execution_count": 1,
   "metadata": {},
   "outputs": [],
   "source": [
    "from pyspark import SparkConf, SparkContext"
   ]
  },
  {
   "cell_type": "code",
   "execution_count": 2,
   "metadata": {},
   "outputs": [],
   "source": [
    "conf = SparkConf().setAppName(\"Read File\")"
   ]
  },
  {
   "cell_type": "code",
   "execution_count": 3,
   "metadata": {},
   "outputs": [
    {
     "name": "stderr",
     "output_type": "stream",
     "text": [
      "25/01/25 13:39:01 WARN Utils: Your hostname, Kempslys-MacBook-Pro.local resolves to a loopback address: 127.0.0.1; using 192.168.1.57 instead (on interface en0)\n",
      "25/01/25 13:39:01 WARN Utils: Set SPARK_LOCAL_IP if you need to bind to another address\n",
      "Setting default log level to \"WARN\".\n",
      "To adjust logging level use sc.setLogLevel(newLevel). For SparkR, use setLogLevel(newLevel).\n",
      "25/01/25 13:39:01 WARN NativeCodeLoader: Unable to load native-hadoop library for your platform... using builtin-java classes where applicable\n"
     ]
    }
   ],
   "source": [
    "sc = SparkContext.getOrCreate(conf=conf)"
   ]
  },
  {
   "cell_type": "code",
   "execution_count": 4,
   "metadata": {},
   "outputs": [],
   "source": [
    "#REad the files\n",
    "rdd = sc.textFile('sample_columned.txt')\n"
   ]
  },
  {
   "cell_type": "code",
   "execution_count": 7,
   "metadata": {},
   "outputs": [
    {
     "data": {
      "text/plain": [
       "['1 2 3 4 5',\n",
       " '6 7 8 9 10',\n",
       " '11 12 13 14 15',\n",
       " '16 17 18 19 20',\n",
       " '21 22 23 24 25',\n",
       " '26 27 28 29 30',\n",
       " '31 32 33 34 35',\n",
       " '36 37 38 39 40',\n",
       " '41 42 43 44 45',\n",
       " '46 47 48 49 50',\n",
       " '51 52 53 54 55',\n",
       " '56 57 58 59 60',\n",
       " '61 62 63 64 65',\n",
       " '66 67 68 69 70',\n",
       " '71 72 73 74 75',\n",
       " '76 77 78 79 80',\n",
       " '81 82 83 84 85',\n",
       " '86 87 88 89 90',\n",
       " '91 92 93 94 95',\n",
       " '96 97 98 99 100']"
      ]
     },
     "execution_count": 7,
     "metadata": {},
     "output_type": "execute_result"
    }
   ],
   "source": [
    "rdd.collect()"
   ]
  },
  {
   "cell_type": "markdown",
   "metadata": {},
   "source": [
    "## Using the map function in spark RDD"
   ]
  },
  {
   "cell_type": "code",
   "execution_count": 5,
   "metadata": {},
   "outputs": [
    {
     "data": {
      "text/plain": [
       "PythonRDD[2] at RDD at PythonRDD.scala:53"
      ]
     },
     "execution_count": 5,
     "metadata": {},
     "output_type": "execute_result"
    }
   ],
   "source": [
    "rdd_new = rdd.map(lambda x: x.split(' '))\n",
    "rdd_new"
   ]
  },
  {
   "cell_type": "code",
   "execution_count": 6,
   "metadata": {},
   "outputs": [
    {
     "data": {
      "text/plain": [
       "[['1', '2', '3', '4', '5'],\n",
       " ['6', '7', '8', '9', '10'],\n",
       " ['11', '12', '13', '14', '15'],\n",
       " ['16', '17', '18', '19', '20'],\n",
       " ['21', '22', '23', '24', '25'],\n",
       " ['26', '27', '28', '29', '30'],\n",
       " ['31', '32', '33', '34', '35'],\n",
       " ['36', '37', '38', '39', '40'],\n",
       " ['41', '42', '43', '44', '45'],\n",
       " ['46', '47', '48', '49', '50'],\n",
       " ['51', '52', '53', '54', '55'],\n",
       " ['56', '57', '58', '59', '60'],\n",
       " ['61', '62', '63', '64', '65'],\n",
       " ['66', '67', '68', '69', '70'],\n",
       " ['71', '72', '73', '74', '75'],\n",
       " ['76', '77', '78', '79', '80'],\n",
       " ['81', '82', '83', '84', '85'],\n",
       " ['86', '87', '88', '89', '90'],\n",
       " ['91', '92', '93', '94', '95'],\n",
       " ['96', '97', '98', '99', '100']]"
      ]
     },
     "execution_count": 6,
     "metadata": {},
     "output_type": "execute_result"
    }
   ],
   "source": [
    "rdd_new.collect()"
   ]
  },
  {
   "cell_type": "code",
   "execution_count": 8,
   "metadata": {},
   "outputs": [],
   "source": [
    "#DEfining a function instead of using lambda function\n",
    "def map_add(x):\n",
    "    l = x.split()\n",
    "    l2 = []\n",
    "    for s in l:\n",
    "        l2.append(int(s) + 100)\n",
    "        \n",
    "    return l2 \n"
   ]
  },
  {
   "cell_type": "code",
   "execution_count": 9,
   "metadata": {},
   "outputs": [
    {
     "data": {
      "text/plain": [
       "PythonRDD[3] at RDD at PythonRDD.scala:53"
      ]
     },
     "execution_count": 9,
     "metadata": {},
     "output_type": "execute_result"
    }
   ],
   "source": [
    "rdd_from_map_add = rdd.map(map_add)\n",
    "rdd_from_map_add"
   ]
  },
  {
   "cell_type": "code",
   "execution_count": 10,
   "metadata": {},
   "outputs": [
    {
     "data": {
      "text/plain": [
       "[[101, 102, 103, 104, 105],\n",
       " [106, 107, 108, 109, 110],\n",
       " [111, 112, 113, 114, 115],\n",
       " [116, 117, 118, 119, 120],\n",
       " [121, 122, 123, 124, 125],\n",
       " [126, 127, 128, 129, 130],\n",
       " [131, 132, 133, 134, 135],\n",
       " [136, 137, 138, 139, 140],\n",
       " [141, 142, 143, 144, 145],\n",
       " [146, 147, 148, 149, 150],\n",
       " [151, 152, 153, 154, 155],\n",
       " [156, 157, 158, 159, 160],\n",
       " [161, 162, 163, 164, 165],\n",
       " [166, 167, 168, 169, 170],\n",
       " [171, 172, 173, 174, 175],\n",
       " [176, 177, 178, 179, 180],\n",
       " [181, 182, 183, 184, 185],\n",
       " [186, 187, 188, 189, 190],\n",
       " [191, 192, 193, 194, 195],\n",
       " [196, 197, 198, 199, 200]]"
      ]
     },
     "execution_count": 10,
     "metadata": {},
     "output_type": "execute_result"
    }
   ],
   "source": [
    "rdd_from_map_add.collect()"
   ]
  },
  {
   "cell_type": "markdown",
   "metadata": {},
   "source": [
    "## Playground exercise\n"
   ]
  },
  {
   "cell_type": "markdown",
   "metadata": {},
   "source": [
    "# Writting a mapper that will provide the lenght of each word"
   ]
  },
  {
   "cell_type": "code",
   "execution_count": 11,
   "metadata": {},
   "outputs": [],
   "source": [
    "from pyspark import SparkConf, SparkContext\n",
    "conf = SparkConf().setAppName('Mapper Practice')"
   ]
  },
  {
   "cell_type": "code",
   "execution_count": 12,
   "metadata": {},
   "outputs": [],
   "source": [
    "sc_map = SparkContext.getOrCreate(conf=conf)"
   ]
  },
  {
   "cell_type": "code",
   "execution_count": 13,
   "metadata": {},
   "outputs": [
    {
     "data": {
      "text/html": [
       "\n",
       "        <div>\n",
       "            <p><b>SparkContext</b></p>\n",
       "\n",
       "            <p><a href=\"http://192.168.1.57:4040\">Spark UI</a></p>\n",
       "\n",
       "            <dl>\n",
       "              <dt>Version</dt>\n",
       "                <dd><code>v3.5.4</code></dd>\n",
       "              <dt>Master</dt>\n",
       "                <dd><code>local[*]</code></dd>\n",
       "              <dt>AppName</dt>\n",
       "                <dd><code>Read File</code></dd>\n",
       "            </dl>\n",
       "        </div>\n",
       "        "
      ],
      "text/plain": [
       "<SparkContext master=local[*] appName=Read File>"
      ]
     },
     "execution_count": 13,
     "metadata": {},
     "output_type": "execute_result"
    }
   ],
   "source": [
    "sc_map"
   ]
  },
  {
   "cell_type": "code",
   "execution_count": 42,
   "metadata": {},
   "outputs": [
    {
     "data": {
      "text/plain": [
       "playground.txt MapPartitionsRDD[17] at textFile at NativeMethodAccessorImpl.java:0"
      ]
     },
     "execution_count": 42,
     "metadata": {},
     "output_type": "execute_result"
    }
   ],
   "source": [
    "#Read the file\n",
    "rdd_map_text = sc_map.textFile('playground.txt')\n",
    "rdd_map_text"
   ]
  },
  {
   "cell_type": "code",
   "execution_count": 43,
   "metadata": {},
   "outputs": [
    {
     "data": {
      "text/plain": [
       "['Hello! How are you?',\n",
       " '',\n",
       " \"I'm doing well, thank you! How about you?\",\n",
       " '',\n",
       " \"I'm good too, thanks for asking.\",\n",
       " '',\n",
       " 'What have you been up to?',\n",
       " '',\n",
       " 'Not much, just relaxing. How about you?',\n",
       " '',\n",
       " 'Same here, just catching up on some work.',\n",
       " '',\n",
       " \"That's good to hear. Do you have any plans for the weekend?\",\n",
       " '',\n",
       " 'I’m thinking of going hiking, how about you?',\n",
       " '',\n",
       " 'I might just stay in and watch some movies.',\n",
       " '',\n",
       " 'Sounds fun! Enjoy your weekend!',\n",
       " '',\n",
       " 'Thanks, you too!']"
      ]
     },
     "execution_count": 43,
     "metadata": {},
     "output_type": "execute_result"
    }
   ],
   "source": [
    "#Display the file content\n",
    "rdd_map_text.collect()"
   ]
  },
  {
   "cell_type": "code",
   "execution_count": 44,
   "metadata": {},
   "outputs": [],
   "source": [
    "# Filter out empty strings\n",
    "filtered_rdd = rdd_map_text.filter(lambda line: line != \"\")"
   ]
  },
  {
   "cell_type": "code",
   "execution_count": 45,
   "metadata": {},
   "outputs": [
    {
     "data": {
      "text/plain": [
       "['Hello! How are you?',\n",
       " \"I'm doing well, thank you! How about you?\",\n",
       " \"I'm good too, thanks for asking.\",\n",
       " 'What have you been up to?',\n",
       " 'Not much, just relaxing. How about you?',\n",
       " 'Same here, just catching up on some work.',\n",
       " \"That's good to hear. Do you have any plans for the weekend?\",\n",
       " 'I’m thinking of going hiking, how about you?',\n",
       " 'I might just stay in and watch some movies.',\n",
       " 'Sounds fun! Enjoy your weekend!',\n",
       " 'Thanks, you too!']"
      ]
     },
     "execution_count": 45,
     "metadata": {},
     "output_type": "execute_result"
    }
   ],
   "source": [
    "filtered_rdd .collect()\n"
   ]
  },
  {
   "cell_type": "markdown",
   "metadata": {},
   "source": [
    "THe best way of doing it"
   ]
  },
  {
   "cell_type": "code",
   "execution_count": 46,
   "metadata": {},
   "outputs": [],
   "source": [
    "#Writting a mapper that will provide the lenght of each word\n",
    "\n",
    "# length(column_name)\n",
    "\n",
    "def mapper_length(y):\n",
    "    words = y.split()\n",
    "    words_length = []\n",
    "    \n",
    "    for word in words:\n",
    "        word_length = len(word) \n",
    "        words_length.append(int(word_length))\n",
    "    \n",
    "    return words_length\n",
    "    "
   ]
  },
  {
   "cell_type": "code",
   "execution_count": 47,
   "metadata": {},
   "outputs": [
    {
     "data": {
      "text/plain": [
       "PythonRDD[19] at RDD at PythonRDD.scala:53"
      ]
     },
     "execution_count": 47,
     "metadata": {},
     "output_type": "execute_result"
    }
   ],
   "source": [
    "rdd_map_text2 = filtered_rdd.map(mapper_length)\n",
    "rdd_map_text2"
   ]
  },
  {
   "cell_type": "code",
   "execution_count": 48,
   "metadata": {},
   "outputs": [
    {
     "data": {
      "text/plain": [
       "[[6, 3, 3, 4],\n",
       " [3, 5, 5, 5, 4, 3, 5, 4],\n",
       " [3, 4, 4, 6, 3, 7],\n",
       " [4, 4, 3, 4, 2, 3],\n",
       " [3, 5, 4, 9, 3, 5, 4],\n",
       " [4, 5, 4, 8, 2, 2, 4, 5],\n",
       " [6, 4, 2, 5, 2, 3, 4, 3, 5, 3, 3, 8],\n",
       " [3, 8, 2, 5, 7, 3, 5, 4],\n",
       " [1, 5, 4, 4, 2, 3, 5, 4, 7],\n",
       " [6, 4, 5, 4, 8],\n",
       " [7, 3, 4]]"
      ]
     },
     "execution_count": 48,
     "metadata": {},
     "output_type": "execute_result"
    }
   ],
   "source": [
    "rdd_map_text2.collect()"
   ]
  },
  {
   "cell_type": "markdown",
   "metadata": {},
   "source": [
    "# Other way of doing it "
   ]
  },
  {
   "cell_type": "code",
   "execution_count": 49,
   "metadata": {},
   "outputs": [
    {
     "data": {
      "text/plain": [
       "[[6, 3, 3, 4],\n",
       " [0],\n",
       " [3, 5, 5, 5, 4, 3, 5, 4],\n",
       " [0],\n",
       " [3, 4, 4, 6, 3, 7],\n",
       " [0],\n",
       " [4, 4, 3, 4, 2, 3],\n",
       " [0],\n",
       " [3, 5, 4, 9, 3, 5, 4],\n",
       " [0],\n",
       " [4, 5, 4, 8, 2, 2, 4, 5],\n",
       " [0],\n",
       " [6, 4, 2, 5, 2, 3, 4, 3, 5, 3, 3, 8],\n",
       " [0],\n",
       " [3, 8, 2, 5, 7, 3, 5, 4],\n",
       " [0],\n",
       " [1, 5, 4, 4, 2, 3, 5, 4, 7],\n",
       " [0],\n",
       " [6, 4, 5, 4, 8],\n",
       " [0],\n",
       " [7, 3, 4]]"
      ]
     },
     "execution_count": 49,
     "metadata": {},
     "output_type": "execute_result"
    }
   ],
   "source": [
    "\n",
    "from pyspark import SparkConf, SparkContext\n",
    "conf = SparkConf().setAppName(\"QUIZ\")\n",
    "sc = SparkContext.getOrCreate(conf=conf)\n",
    "\n",
    "\n",
    "\n",
    "rdd = sc.textFile('playground.txt')\n",
    "rdd.collect()\n",
    "\n",
    "\n",
    "\n",
    "def quiz(x):\n",
    "  # x -> 'great'\n",
    "  l = x.split(' ') \n",
    "  l2 = []\n",
    "  for s in l:\n",
    "    l2.append(len(s))\n",
    "  return l2\n",
    "  \n",
    "rdd2 = rdd.map(quiz)\n",
    "rdd2.collect()"
   ]
  },
  {
   "cell_type": "code",
   "execution_count": null,
   "metadata": {},
   "outputs": [
    {
     "data": {
      "text/plain": [
       "[[6, 3, 3, 4],\n",
       " [0],\n",
       " [3, 5, 5, 5, 4, 3, 5, 4],\n",
       " [0],\n",
       " [3, 4, 4, 6, 3, 7],\n",
       " [0],\n",
       " [4, 4, 3, 4, 2, 3],\n",
       " [0],\n",
       " [3, 5, 4, 9, 3, 5, 4],\n",
       " [0],\n",
       " [4, 5, 4, 8, 2, 2, 4, 5],\n",
       " [0],\n",
       " [6, 4, 2, 5, 2, 3, 4, 3, 5, 3, 3, 8],\n",
       " [0],\n",
       " [3, 8, 2, 5, 7, 3, 5, 4],\n",
       " [0],\n",
       " [1, 5, 4, 4, 2, 3, 5, 4, 7],\n",
       " [0],\n",
       " [6, 4, 5, 4, 8],\n",
       " [0],\n",
       " [7, 3, 4]]"
      ]
     },
     "execution_count": 50,
     "metadata": {},
     "output_type": "execute_result"
    }
   ],
   "source": [
    "# Databricks notebook source\n",
    "from pyspark import SparkConf, SparkContext\n",
    "conf = SparkConf().setAppName(\"QUIZ\")\n",
    "sc = SparkContext.getOrCreate(conf=conf)\n",
    "\n",
    "\n",
    "rdd = sc.textFile('playground.txt')\n",
    "rdd.collect()\n",
    "\n",
    "\n",
    "\n",
    "def quiz(x):\n",
    "  l = x.split(' ')\n",
    "  l2 = []\n",
    "  for s in l:\n",
    "    l2.append(len(s))\n",
    "  return l2\n",
    "  \n",
    "rdd2 = rdd.map(quiz)\n",
    "rdd2.collect()\n",
    "\n",
    "\n",
    "\n",
    "rdd3 = rdd.map(lambda x: [len(s) for s in x.split(' ')])\n",
    "rdd3.collect()\n",
    "\n",
    "\n",
    "\n"
   ]
  },
  {
   "cell_type": "code",
   "execution_count": null,
   "metadata": {},
   "outputs": [],
   "source": []
  },
  {
   "cell_type": "code",
   "execution_count": null,
   "metadata": {},
   "outputs": [],
   "source": []
  },
  {
   "cell_type": "code",
   "execution_count": null,
   "metadata": {},
   "outputs": [],
   "source": []
  }
 ],
 "metadata": {
  "kernelspec": {
   "display_name": "pyspark-env",
   "language": "python",
   "name": "python3"
  },
  "language_info": {
   "codemirror_mode": {
    "name": "ipython",
    "version": 3
   },
   "file_extension": ".py",
   "mimetype": "text/x-python",
   "name": "python",
   "nbconvert_exporter": "python",
   "pygments_lexer": "ipython3",
   "version": "3.12.8"
  }
 },
 "nbformat": 4,
 "nbformat_minor": 2
}
