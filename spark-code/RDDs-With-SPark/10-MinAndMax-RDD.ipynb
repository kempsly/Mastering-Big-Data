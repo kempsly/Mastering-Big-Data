{
 "cells": [
  {
   "cell_type": "code",
   "execution_count": 1,
   "metadata": {},
   "outputs": [
    {
     "name": "stderr",
     "output_type": "stream",
     "text": [
      "25/01/26 20:42:35 WARN Utils: Your hostname, Kempslys-MacBook-Pro.local resolves to a loopback address: 127.0.0.1; using 192.168.1.57 instead (on interface en0)\n",
      "25/01/26 20:42:35 WARN Utils: Set SPARK_LOCAL_IP if you need to bind to another address\n",
      "Setting default log level to \"WARN\".\n",
      "To adjust logging level use sc.setLogLevel(newLevel). For SparkR, use setLogLevel(newLevel).\n",
      "25/01/26 20:42:35 WARN NativeCodeLoader: Unable to load native-hadoop library for your platform... using builtin-java classes where applicable\n"
     ]
    }
   ],
   "source": [
    "from pyspark import SparkConf, SparkContext\n",
    "conf = SparkConf().setAppName('MinMax')\n",
    "sc = SparkContext.getOrCreate(conf=conf)"
   ]
  },
  {
   "cell_type": "code",
   "execution_count": 2,
   "metadata": {},
   "outputs": [
    {
     "data": {
      "text/plain": [
       "['The Shawshank Redemption,3',\n",
       " 'The Matrix,5',\n",
       " '12 Angry Men,3',\n",
       " '12 Angry Men,4',\n",
       " 'The Matrix,5',\n",
       " 'Pulp Fiction,4',\n",
       " 'The Godfather,5',\n",
       " 'The Shawshank Redemption,2',\n",
       " 'Pulp Fiction,4',\n",
       " 'The Godfather,5',\n",
       " '12 Angry Men,2',\n",
       " 'The Godfather,3',\n",
       " 'Pulp Fiction,4',\n",
       " '12 Angry Men,1',\n",
       " 'The Shawshank Redemption,2',\n",
       " '12 Angry Men,1',\n",
       " 'The Shawshank Redemption,5',\n",
       " 'Pulp Fiction,5',\n",
       " 'Pulp Fiction,2',\n",
       " 'The Matrix,4']"
      ]
     },
     "execution_count": 2,
     "metadata": {},
     "output_type": "execute_result"
    }
   ],
   "source": [
    "# Reading the data into a rdd\n",
    "rdd = sc.textFile('movies_rating.csv')\n",
    "rdd.collect()"
   ]
  },
  {
   "cell_type": "code",
   "execution_count": 3,
   "metadata": {},
   "outputs": [
    {
     "data": {
      "text/plain": [
       "[('The Shawshank Redemption', 3),\n",
       " ('The Matrix', 5),\n",
       " ('12 Angry Men', 3),\n",
       " ('12 Angry Men', 4),\n",
       " ('The Matrix', 5),\n",
       " ('Pulp Fiction', 4),\n",
       " ('The Godfather', 5),\n",
       " ('The Shawshank Redemption', 2),\n",
       " ('Pulp Fiction', 4),\n",
       " ('The Godfather', 5),\n",
       " ('12 Angry Men', 2),\n",
       " ('The Godfather', 3),\n",
       " ('Pulp Fiction', 4),\n",
       " ('12 Angry Men', 1),\n",
       " ('The Shawshank Redemption', 2),\n",
       " ('12 Angry Men', 1),\n",
       " ('The Shawshank Redemption', 5),\n",
       " ('Pulp Fiction', 5),\n",
       " ('Pulp Fiction', 2),\n",
       " ('The Matrix', 4)]"
      ]
     },
     "execution_count": 3,
     "metadata": {},
     "output_type": "execute_result"
    }
   ],
   "source": [
    "rdd2 = rdd.map(lambda x: (x.split(',')[0],int(x.split(',')[1])))\n",
    "rdd2.collect()"
   ]
  },
  {
   "cell_type": "markdown",
   "metadata": {},
   "source": [
    "Finding the minimum value rating for each film "
   ]
  },
  {
   "cell_type": "code",
   "execution_count": 4,
   "metadata": {},
   "outputs": [
    {
     "data": {
      "text/plain": [
       "[('The Shawshank Redemption', 2),\n",
       " ('12 Angry Men', 1),\n",
       " ('Pulp Fiction', 2),\n",
       " ('The Matrix', 4),\n",
       " ('The Godfather', 3)]"
      ]
     },
     "execution_count": 4,
     "metadata": {},
     "output_type": "execute_result"
    }
   ],
   "source": [
    "rdd2.reduceByKey(lambda x , y : x if x < y else y).collect()"
   ]
  },
  {
   "cell_type": "markdown",
   "metadata": {},
   "source": [
    "Finding the maximum value rating for each film "
   ]
  },
  {
   "cell_type": "code",
   "execution_count": 5,
   "metadata": {},
   "outputs": [
    {
     "data": {
      "text/plain": [
       "[('The Shawshank Redemption', 5),\n",
       " ('12 Angry Men', 4),\n",
       " ('Pulp Fiction', 5),\n",
       " ('The Matrix', 5),\n",
       " ('The Godfather', 5)]"
      ]
     },
     "execution_count": 5,
     "metadata": {},
     "output_type": "execute_result"
    }
   ],
   "source": [
    "rdd2.reduceByKey(lambda x , y : x if x > y else y).collect()"
   ]
  },
  {
   "cell_type": "code",
   "execution_count": null,
   "metadata": {},
   "outputs": [],
   "source": []
  },
  {
   "cell_type": "code",
   "execution_count": null,
   "metadata": {},
   "outputs": [],
   "source": []
  },
  {
   "cell_type": "code",
   "execution_count": null,
   "metadata": {},
   "outputs": [],
   "source": []
  },
  {
   "cell_type": "code",
   "execution_count": null,
   "metadata": {},
   "outputs": [],
   "source": []
  },
  {
   "cell_type": "code",
   "execution_count": null,
   "metadata": {},
   "outputs": [],
   "source": []
  }
 ],
 "metadata": {
  "kernelspec": {
   "display_name": "pyspark-env",
   "language": "python",
   "name": "python3"
  },
  "language_info": {
   "codemirror_mode": {
    "name": "ipython",
    "version": 3
   },
   "file_extension": ".py",
   "mimetype": "text/x-python",
   "name": "python",
   "nbconvert_exporter": "python",
   "pygments_lexer": "ipython3",
   "version": "3.12.8"
  }
 },
 "nbformat": 4,
 "nbformat_minor": 2
}
