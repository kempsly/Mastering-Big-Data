{
 "cells": [
  {
   "cell_type": "code",
   "execution_count": 1,
   "metadata": {},
   "outputs": [
    {
     "name": "stderr",
     "output_type": "stream",
     "text": [
      "25/01/26 10:32:25 WARN Utils: Your hostname, Kempslys-MacBook-Pro.local resolves to a loopback address: 127.0.0.1; using 192.168.1.57 instead (on interface en0)\n",
      "25/01/26 10:32:25 WARN Utils: Set SPARK_LOCAL_IP if you need to bind to another address\n",
      "Setting default log level to \"WARN\".\n",
      "To adjust logging level use sc.setLogLevel(newLevel). For SparkR, use setLogLevel(newLevel).\n",
      "25/01/26 10:32:25 WARN NativeCodeLoader: Unable to load native-hadoop library for your platform... using builtin-java classes where applicable\n",
      "25/01/26 10:32:25 WARN Utils: Service 'SparkUI' could not bind on port 4040. Attempting port 4041.\n"
     ]
    }
   ],
   "source": [
    "from pyspark import SparkConf, SparkContext\n",
    "conf = SparkConf().setAppName(\"CountBYValue\")\n",
    "sc = SparkContext.getOrCreate(conf=conf)"
   ]
  },
  {
   "cell_type": "code",
   "execution_count": 2,
   "metadata": {},
   "outputs": [],
   "source": [
    "rdd = sc.textFile('playground.txt')"
   ]
  },
  {
   "cell_type": "code",
   "execution_count": 3,
   "metadata": {},
   "outputs": [
    {
     "data": {
      "text/plain": [
       "21"
      ]
     },
     "execution_count": 3,
     "metadata": {},
     "output_type": "execute_result"
    }
   ],
   "source": [
    "rdd.count()"
   ]
  },
  {
   "cell_type": "code",
   "execution_count": 4,
   "metadata": {},
   "outputs": [
    {
     "data": {
      "text/plain": [
       "86"
      ]
     },
     "execution_count": 4,
     "metadata": {},
     "output_type": "execute_result"
    }
   ],
   "source": [
    "rdd2 = rdd.flatMap(lambda x: x.split(' '))\n",
    "\n",
    "\n",
    "rdd2.count()"
   ]
  },
  {
   "cell_type": "code",
   "execution_count": 5,
   "metadata": {},
   "outputs": [
    {
     "data": {
      "text/plain": [
       "defaultdict(int,\n",
       "            {'Hello! How are you?': 1,\n",
       "             '': 10,\n",
       "             \"I'm doing well, thank you! How about you?\": 1,\n",
       "             \"I'm good too, thanks for asking.\": 1,\n",
       "             'What have you been up to?': 1,\n",
       "             'Not much, just relaxing. How about you?': 1,\n",
       "             'Same here, just catching up on some work.': 1,\n",
       "             \"That's good to hear. Do you have any plans for the weekend?\": 1,\n",
       "             'I’m thinking of going hiking, how about you?': 1,\n",
       "             'I might just stay in and watch some movies.': 1,\n",
       "             'Sounds fun! Enjoy your weekend!': 1,\n",
       "             'Thanks, you too!': 1})"
      ]
     },
     "execution_count": 5,
     "metadata": {},
     "output_type": "execute_result"
    }
   ],
   "source": [
    "rdd.countByValue()\n"
   ]
  },
  {
   "cell_type": "code",
   "execution_count": 6,
   "metadata": {},
   "outputs": [
    {
     "data": {
      "text/plain": [
       "['Hello!',\n",
       " 'How',\n",
       " 'are',\n",
       " 'you?',\n",
       " '',\n",
       " \"I'm\",\n",
       " 'doing',\n",
       " 'well,',\n",
       " 'thank',\n",
       " 'you!',\n",
       " 'How',\n",
       " 'about',\n",
       " 'you?',\n",
       " '',\n",
       " \"I'm\",\n",
       " 'good',\n",
       " 'too,',\n",
       " 'thanks',\n",
       " 'for',\n",
       " 'asking.',\n",
       " '',\n",
       " 'What',\n",
       " 'have',\n",
       " 'you',\n",
       " 'been',\n",
       " 'up',\n",
       " 'to?',\n",
       " '',\n",
       " 'Not',\n",
       " 'much,',\n",
       " 'just',\n",
       " 'relaxing.',\n",
       " 'How',\n",
       " 'about',\n",
       " 'you?',\n",
       " '',\n",
       " 'Same',\n",
       " 'here,',\n",
       " 'just',\n",
       " 'catching',\n",
       " 'up',\n",
       " 'on',\n",
       " 'some',\n",
       " 'work.',\n",
       " '',\n",
       " \"That's\",\n",
       " 'good',\n",
       " 'to',\n",
       " 'hear.',\n",
       " 'Do',\n",
       " 'you',\n",
       " 'have',\n",
       " 'any',\n",
       " 'plans',\n",
       " 'for',\n",
       " 'the',\n",
       " 'weekend?',\n",
       " '',\n",
       " 'I’m',\n",
       " 'thinking',\n",
       " 'of',\n",
       " 'going',\n",
       " 'hiking,',\n",
       " 'how',\n",
       " 'about',\n",
       " 'you?',\n",
       " '',\n",
       " 'I',\n",
       " 'might',\n",
       " 'just',\n",
       " 'stay',\n",
       " 'in',\n",
       " 'and',\n",
       " 'watch',\n",
       " 'some',\n",
       " 'movies.',\n",
       " '',\n",
       " 'Sounds',\n",
       " 'fun!',\n",
       " 'Enjoy',\n",
       " 'your',\n",
       " 'weekend!',\n",
       " '',\n",
       " 'Thanks,',\n",
       " 'you',\n",
       " 'too!']"
      ]
     },
     "execution_count": 6,
     "metadata": {},
     "output_type": "execute_result"
    }
   ],
   "source": [
    "\n",
    "\n",
    "rdd2 = rdd.flatMap(lambda x: x.split(' '))\n",
    "rdd2.collect()\n"
   ]
  },
  {
   "cell_type": "code",
   "execution_count": 7,
   "metadata": {},
   "outputs": [
    {
     "data": {
      "text/plain": [
       "['Hello!',\n",
       " 'How',\n",
       " 'are',\n",
       " 'you?',\n",
       " '',\n",
       " \"I'm\",\n",
       " 'doing',\n",
       " 'well,',\n",
       " 'thank',\n",
       " 'you!',\n",
       " 'How',\n",
       " 'about',\n",
       " 'you?',\n",
       " '',\n",
       " \"I'm\",\n",
       " 'good',\n",
       " 'too,',\n",
       " 'thanks',\n",
       " 'for',\n",
       " 'asking.',\n",
       " '',\n",
       " 'What',\n",
       " 'have',\n",
       " 'you',\n",
       " 'been',\n",
       " 'up',\n",
       " 'to?',\n",
       " '',\n",
       " 'Not',\n",
       " 'much,',\n",
       " 'just',\n",
       " 'relaxing.',\n",
       " 'How',\n",
       " 'about',\n",
       " 'you?',\n",
       " '',\n",
       " 'Same',\n",
       " 'here,',\n",
       " 'just',\n",
       " 'catching',\n",
       " 'up',\n",
       " 'on',\n",
       " 'some',\n",
       " 'work.',\n",
       " '',\n",
       " \"That's\",\n",
       " 'good',\n",
       " 'to',\n",
       " 'hear.',\n",
       " 'Do',\n",
       " 'you',\n",
       " 'have',\n",
       " 'any',\n",
       " 'plans',\n",
       " 'for',\n",
       " 'the',\n",
       " 'weekend?',\n",
       " '',\n",
       " 'I’m',\n",
       " 'thinking',\n",
       " 'of',\n",
       " 'going',\n",
       " 'hiking,',\n",
       " 'how',\n",
       " 'about',\n",
       " 'you?',\n",
       " '',\n",
       " 'I',\n",
       " 'might',\n",
       " 'just',\n",
       " 'stay',\n",
       " 'in',\n",
       " 'and',\n",
       " 'watch',\n",
       " 'some',\n",
       " 'movies.',\n",
       " '',\n",
       " 'Sounds',\n",
       " 'fun!',\n",
       " 'Enjoy',\n",
       " 'your',\n",
       " 'weekend!',\n",
       " '',\n",
       " 'Thanks,',\n",
       " 'you',\n",
       " 'too!']"
      ]
     },
     "execution_count": 7,
     "metadata": {},
     "output_type": "execute_result"
    }
   ],
   "source": [
    "rdd2 = rdd.flatMap(lambda x: x.split(' '))\n",
    "rdd2.collect()"
   ]
  },
  {
   "cell_type": "code",
   "execution_count": 8,
   "metadata": {},
   "outputs": [
    {
     "data": {
      "text/plain": [
       "defaultdict(int,\n",
       "            {'Hello!': 1,\n",
       "             'How': 3,\n",
       "             'are': 1,\n",
       "             'you?': 4,\n",
       "             '': 10,\n",
       "             \"I'm\": 2,\n",
       "             'doing': 1,\n",
       "             'well,': 1,\n",
       "             'thank': 1,\n",
       "             'you!': 1,\n",
       "             'about': 3,\n",
       "             'good': 2,\n",
       "             'too,': 1,\n",
       "             'thanks': 1,\n",
       "             'for': 2,\n",
       "             'asking.': 1,\n",
       "             'What': 1,\n",
       "             'have': 2,\n",
       "             'you': 3,\n",
       "             'been': 1,\n",
       "             'up': 2,\n",
       "             'to?': 1,\n",
       "             'Not': 1,\n",
       "             'much,': 1,\n",
       "             'just': 3,\n",
       "             'relaxing.': 1,\n",
       "             'Same': 1,\n",
       "             'here,': 1,\n",
       "             'catching': 1,\n",
       "             'on': 1,\n",
       "             'some': 2,\n",
       "             'work.': 1,\n",
       "             \"That's\": 1,\n",
       "             'to': 1,\n",
       "             'hear.': 1,\n",
       "             'Do': 1,\n",
       "             'any': 1,\n",
       "             'plans': 1,\n",
       "             'the': 1,\n",
       "             'weekend?': 1,\n",
       "             'I’m': 1,\n",
       "             'thinking': 1,\n",
       "             'of': 1,\n",
       "             'going': 1,\n",
       "             'hiking,': 1,\n",
       "             'how': 1,\n",
       "             'I': 1,\n",
       "             'might': 1,\n",
       "             'stay': 1,\n",
       "             'in': 1,\n",
       "             'and': 1,\n",
       "             'watch': 1,\n",
       "             'movies.': 1,\n",
       "             'Sounds': 1,\n",
       "             'fun!': 1,\n",
       "             'Enjoy': 1,\n",
       "             'your': 1,\n",
       "             'weekend!': 1,\n",
       "             'Thanks,': 1,\n",
       "             'too!': 1})"
      ]
     },
     "execution_count": 8,
     "metadata": {},
     "output_type": "execute_result"
    }
   ],
   "source": [
    "rdd2.countByValue()"
   ]
  },
  {
   "cell_type": "code",
   "execution_count": null,
   "metadata": {},
   "outputs": [],
   "source": []
  },
  {
   "cell_type": "code",
   "execution_count": null,
   "metadata": {},
   "outputs": [],
   "source": []
  }
 ],
 "metadata": {
  "kernelspec": {
   "display_name": "pyspark-env",
   "language": "python",
   "name": "python3"
  },
  "language_info": {
   "codemirror_mode": {
    "name": "ipython",
    "version": 3
   },
   "file_extension": ".py",
   "mimetype": "text/x-python",
   "name": "python",
   "nbconvert_exporter": "python",
   "pygments_lexer": "ipython3",
   "version": "3.12.8"
  }
 },
 "nbformat": 4,
 "nbformat_minor": 2
}
