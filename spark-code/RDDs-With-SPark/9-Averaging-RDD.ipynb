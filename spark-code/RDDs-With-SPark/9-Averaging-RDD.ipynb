{
 "cells": [
  {
   "cell_type": "code",
   "execution_count": 1,
   "metadata": {},
   "outputs": [
    {
     "name": "stderr",
     "output_type": "stream",
     "text": [
      "25/01/26 20:27:02 WARN Utils: Your hostname, Kempslys-MacBook-Pro.local resolves to a loopback address: 127.0.0.1; using 192.168.1.57 instead (on interface en0)\n",
      "25/01/26 20:27:02 WARN Utils: Set SPARK_LOCAL_IP if you need to bind to another address\n",
      "Setting default log level to \"WARN\".\n",
      "To adjust logging level use sc.setLogLevel(newLevel). For SparkR, use setLogLevel(newLevel).\n",
      "25/01/26 20:27:03 WARN NativeCodeLoader: Unable to load native-hadoop library for your platform... using builtin-java classes where applicable\n"
     ]
    }
   ],
   "source": [
    "from pyspark import SparkConf, SparkContext\n",
    "conf = SparkConf().setAppName(\"Averaging\")\n",
    "sc = SparkContext.getOrCreate(conf=conf)"
   ]
  },
  {
   "cell_type": "code",
   "execution_count": 2,
   "metadata": {},
   "outputs": [],
   "source": [
    "rdd = sc.textFile('movies_rating.csv')\n"
   ]
  },
  {
   "cell_type": "code",
   "execution_count": 3,
   "metadata": {},
   "outputs": [
    {
     "data": {
      "text/plain": [
       "['The Shawshank Redemption,3',\n",
       " 'The Matrix,5',\n",
       " '12 Angry Men,3',\n",
       " '12 Angry Men,4',\n",
       " 'The Matrix,5',\n",
       " 'Pulp Fiction,4',\n",
       " 'The Godfather,5',\n",
       " 'The Shawshank Redemption,2',\n",
       " 'Pulp Fiction,4',\n",
       " 'The Godfather,5',\n",
       " '12 Angry Men,2',\n",
       " 'The Godfather,3',\n",
       " 'Pulp Fiction,4',\n",
       " '12 Angry Men,1',\n",
       " 'The Shawshank Redemption,2',\n",
       " '12 Angry Men,1',\n",
       " 'The Shawshank Redemption,5',\n",
       " 'Pulp Fiction,5',\n",
       " 'Pulp Fiction,2',\n",
       " 'The Matrix,4']"
      ]
     },
     "execution_count": 3,
     "metadata": {},
     "output_type": "execute_result"
    }
   ],
   "source": [
    "rdd.collect()"
   ]
  },
  {
   "cell_type": "code",
   "execution_count": 4,
   "metadata": {},
   "outputs": [],
   "source": [
    "rdd2 = rdd.map(lambda x: (x.split(',')[0],   (int(x.split(',')[1]),1)  ))"
   ]
  },
  {
   "cell_type": "code",
   "execution_count": 5,
   "metadata": {},
   "outputs": [
    {
     "data": {
      "text/plain": [
       "[('The Shawshank Redemption', (3, 1)),\n",
       " ('The Matrix', (5, 1)),\n",
       " ('12 Angry Men', (3, 1)),\n",
       " ('12 Angry Men', (4, 1)),\n",
       " ('The Matrix', (5, 1)),\n",
       " ('Pulp Fiction', (4, 1)),\n",
       " ('The Godfather', (5, 1)),\n",
       " ('The Shawshank Redemption', (2, 1)),\n",
       " ('Pulp Fiction', (4, 1)),\n",
       " ('The Godfather', (5, 1)),\n",
       " ('12 Angry Men', (2, 1)),\n",
       " ('The Godfather', (3, 1)),\n",
       " ('Pulp Fiction', (4, 1)),\n",
       " ('12 Angry Men', (1, 1)),\n",
       " ('The Shawshank Redemption', (2, 1)),\n",
       " ('12 Angry Men', (1, 1)),\n",
       " ('The Shawshank Redemption', (5, 1)),\n",
       " ('Pulp Fiction', (5, 1)),\n",
       " ('Pulp Fiction', (2, 1)),\n",
       " ('The Matrix', (4, 1))]"
      ]
     },
     "execution_count": 5,
     "metadata": {},
     "output_type": "execute_result"
    }
   ],
   "source": [
    "rdd2.collect()"
   ]
  },
  {
   "cell_type": "code",
   "execution_count": 6,
   "metadata": {},
   "outputs": [],
   "source": [
    "rdd3 = rdd2.reduceByKey(lambda x,y: (x[0]+y[0], x[1]+y[1]))\n"
   ]
  },
  {
   "cell_type": "code",
   "execution_count": 7,
   "metadata": {},
   "outputs": [
    {
     "data": {
      "text/plain": [
       "[('The Shawshank Redemption', (12, 4)),\n",
       " ('12 Angry Men', (11, 5)),\n",
       " ('Pulp Fiction', (19, 5)),\n",
       " ('The Matrix', (14, 3)),\n",
       " ('The Godfather', (13, 3))]"
      ]
     },
     "execution_count": 7,
     "metadata": {},
     "output_type": "execute_result"
    }
   ],
   "source": [
    "rdd3.collect()"
   ]
  },
  {
   "cell_type": "code",
   "execution_count": 8,
   "metadata": {},
   "outputs": [
    {
     "data": {
      "text/plain": [
       "[('The Shawshank Redemption', 3.0),\n",
       " ('12 Angry Men', 2.2),\n",
       " ('Pulp Fiction', 3.8),\n",
       " ('The Matrix', 4.666666666666667),\n",
       " ('The Godfather', 4.333333333333333)]"
      ]
     },
     "execution_count": 8,
     "metadata": {},
     "output_type": "execute_result"
    }
   ],
   "source": [
    "rdd4 = rdd3.map(lambda x: (x[0],x[1][0]/x[1][1]))\n",
    "\n",
    "\n",
    "rdd4.collect()\n"
   ]
  },
  {
   "cell_type": "markdown",
   "metadata": {},
   "source": [
    "# Finding average value for a test dataset"
   ]
  },
  {
   "cell_type": "code",
   "execution_count": 9,
   "metadata": {},
   "outputs": [],
   "source": [
    "from pyspark import SparkConf, SparkContext\n",
    "conf = SparkConf().setAppName(\"TestAverage\")\n",
    "sc = SparkContext.getOrCreate(conf=conf)\n",
    "\n"
   ]
  },
  {
   "cell_type": "code",
   "execution_count": 10,
   "metadata": {},
   "outputs": [],
   "source": [
    "rdd = sc.textFile('average_test.csv')\n"
   ]
  },
  {
   "cell_type": "code",
   "execution_count": 12,
   "metadata": {},
   "outputs": [
    {
     "data": {
      "text/plain": [
       "['JAN,NY,3.0',\n",
       " 'JAN,PA,1.0',\n",
       " 'JAN,NJ,2.0',\n",
       " 'JAN,CT,4.0',\n",
       " 'FEB,PA,1.0',\n",
       " 'FEB,NJ,1.0',\n",
       " 'FEB,NY,2.0',\n",
       " 'FEB,VT,1.0',\n",
       " 'MAR,NJ,2.0',\n",
       " 'MAR,NY,1.0',\n",
       " 'MAR,VT,2.0',\n",
       " 'MAR,PA,3.0']"
      ]
     },
     "execution_count": 12,
     "metadata": {},
     "output_type": "execute_result"
    }
   ],
   "source": [
    "rdd.collect()"
   ]
  },
  {
   "cell_type": "code",
   "execution_count": 11,
   "metadata": {},
   "outputs": [],
   "source": [
    "rdd2 = rdd.map(lambda x: (x.split(',')[0],(float(x.split(',')[2]),1)))\n"
   ]
  },
  {
   "cell_type": "code",
   "execution_count": 13,
   "metadata": {},
   "outputs": [
    {
     "data": {
      "text/plain": [
       "[('JAN', (3.0, 1)),\n",
       " ('JAN', (1.0, 1)),\n",
       " ('JAN', (2.0, 1)),\n",
       " ('JAN', (4.0, 1)),\n",
       " ('FEB', (1.0, 1)),\n",
       " ('FEB', (1.0, 1)),\n",
       " ('FEB', (2.0, 1)),\n",
       " ('FEB', (1.0, 1)),\n",
       " ('MAR', (2.0, 1)),\n",
       " ('MAR', (1.0, 1)),\n",
       " ('MAR', (2.0, 1)),\n",
       " ('MAR', (3.0, 1))]"
      ]
     },
     "execution_count": 13,
     "metadata": {},
     "output_type": "execute_result"
    }
   ],
   "source": [
    "rdd2.collect()"
   ]
  },
  {
   "cell_type": "code",
   "execution_count": 14,
   "metadata": {},
   "outputs": [],
   "source": [
    "rdd3 = rdd2.reduceByKey(lambda x,y: (x[0] + y[0], x[1]+y[1]))\n"
   ]
  },
  {
   "cell_type": "code",
   "execution_count": 15,
   "metadata": {},
   "outputs": [
    {
     "data": {
      "text/plain": [
       "[('JAN', (10.0, 4)), ('FEB', (5.0, 4)), ('MAR', (8.0, 4))]"
      ]
     },
     "execution_count": 15,
     "metadata": {},
     "output_type": "execute_result"
    }
   ],
   "source": [
    "rdd3.collect()"
   ]
  },
  {
   "cell_type": "code",
   "execution_count": 16,
   "metadata": {},
   "outputs": [],
   "source": [
    "rdd4 = rdd3.map(lambda x: (x[0],x[1][0]/x[1][1]))\n",
    "\n"
   ]
  },
  {
   "cell_type": "code",
   "execution_count": 17,
   "metadata": {},
   "outputs": [
    {
     "data": {
      "text/plain": [
       "[('JAN', 2.5), ('FEB', 1.25), ('MAR', 2.0)]"
      ]
     },
     "execution_count": 17,
     "metadata": {},
     "output_type": "execute_result"
    }
   ],
   "source": [
    "rdd4.collect()"
   ]
  },
  {
   "cell_type": "code",
   "execution_count": null,
   "metadata": {},
   "outputs": [],
   "source": []
  },
  {
   "cell_type": "code",
   "execution_count": null,
   "metadata": {},
   "outputs": [],
   "source": []
  },
  {
   "cell_type": "code",
   "execution_count": null,
   "metadata": {},
   "outputs": [],
   "source": []
  },
  {
   "cell_type": "code",
   "execution_count": null,
   "metadata": {},
   "outputs": [],
   "source": []
  },
  {
   "cell_type": "code",
   "execution_count": null,
   "metadata": {},
   "outputs": [],
   "source": []
  }
 ],
 "metadata": {
  "kernelspec": {
   "display_name": "pyspark-env",
   "language": "python",
   "name": "python3"
  },
  "language_info": {
   "codemirror_mode": {
    "name": "ipython",
    "version": 3
   },
   "file_extension": ".py",
   "mimetype": "text/x-python",
   "name": "python",
   "nbconvert_exporter": "python",
   "pygments_lexer": "ipython3",
   "version": "3.12.8"
  }
 },
 "nbformat": 4,
 "nbformat_minor": 2
}
